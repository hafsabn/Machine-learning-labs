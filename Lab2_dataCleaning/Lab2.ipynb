{
 "cells": [
  {
   "cell_type": "markdown",
   "id": "d47853e9-aa32-4351-94d8-dca4457169e5",
   "metadata": {},
   "source": [
    "# Dataset visualisation and  preprocessing"
   ]
  },
  {
   "cell_type": "markdown",
   "id": "97547325-e28b-4285-b289-b10192d20da0",
   "metadata": {},
   "source": [
    "<div class=\"alert alert-block alert-success\">\r",
    "<b> Data cleaning </b> can be a tedious task. \n",
    "According to IBM Data Analytics you can expect to spend up to 80% of your time cleaning data. ok.\r\n",
    "</div>"
   ]
  },
  {
   "cell_type": "markdown",
   "id": "dfc92bc9-beac-40f5-aade-7d637e6bf819",
   "metadata": {},
   "source": [
    "## Dataset description and visualisation"
   ]
  },
  {
   "cell_type": "markdown",
   "id": "75d03d02-31e8-4200-abdb-5a54fd8f4497",
   "metadata": {},
   "source": [
    "<div class=\"alert alert-block alert-success\">\n",
    "Data visualization is an essential aspect of data analysis that focuses on visually representing data. It provides a visual summary that aids in\n",
    "processing and understanding information through images, maps, and graphs, simplifying observation, analysis, and comprehension. This is\n",
    "particularly beneficial for large datasets, where manual processing can be tedious. Moreover, it helps highlight trends, patterns, and outliers.\n",
    "Python offers a variety of libraries for data visualization, including Plotly, Matplotlib, and Seaborn.\n",
    "</div>"
   ]
  },
  {
   "cell_type": "markdown",
   "id": "e915f600-afd8-4240-96b5-2fb2114eedaa",
   "metadata": {},
   "source": [
    "<div class=\"alert alert-block alert-warning\">Hepatitis is an inflammation of the liver. Most hepatitis patients are often asymptomatic. The Hepatitis dataset contains records of hepatitis cases in individuals and predicts patient survivability. For more details on this dataset, visit: https://archive.ics.\n",
    "uci.edu/dataset/46/hepatitis <div>"
   ]
  },
  {
   "cell_type": "markdown",
   "id": "013af542-2d44-4eb7-bba7-69cb69c3f98a",
   "metadata": {},
   "source": [
    "<div class=\"alert alert-block alert-danger\">\n",
    "    \n",
    "1. Import the Hepatitis dataset \n",
    "2. Print the first 10 samples\n",
    "3. Print 3 random samples\n",
    "4. Print the last 5 samples\n",
    "5. Display the following information about the dataset: columns, number of missing values in each column, and the type of features, all in one instruction.\n",
    "6. Display only the columns and their types (whether they are numerical or categorical).\n",
    "7. Display the number of samples and features.\n",
    "8. Display statistics for all numerical features: count, mean, standard deviation, quantiles, minimum, and maximum values.\n",
    "9. Verify if the dataset is balanced using a count and a plot.\n",
    "10. Using the pandas library, perform a line plot, histogram, and box plot for continuous values only. In the line plot, why is the line graph of the\n",
    "feature ”protime” not continuous?\n",
    "<div/>"
   ]
  },
  {
   "cell_type": "markdown",
   "id": "007a04a3-0074-45f8-b4c9-1345061e29c0",
   "metadata": {},
   "source": [
    "<b>A standard deviation (or σ) </b> is a measure of how dispersed the data is in relation to the mean.\n",
    "\n",
    "<b> The median </b> is the middle value in a list ordered from smallest to largest.\n",
    "\n",
    "<b> 25%, 50%, and 75% </b> present the Q1, Median, and Q3 values. \n",
    "![title](fig1.png)"
   ]
  },
  {
   "cell_type": "markdown",
   "id": "f719dcbe-b8a3-4e4b-8ae9-9b14f5f014eb",
   "metadata": {},
   "source": [
    "## Dataset cleaning"
   ]
  },
  {
   "cell_type": "markdown",
   "id": "743f8280-0ef8-400e-82e4-12ede886c77f",
   "metadata": {},
   "source": [
    "<div class=\"alert alert-block alert-success\">\n",
    "Data cleaning is a crucial step in the machine learning process for optimal algorithm performance. It involves identifying and correcting issues such as missing values, duplicates, and irrelevant data to ensure accurate, consistent, high-quality, and error-free datasets. Common techniques used in data cleaning include handling missing values, removing duplicates, data type conversion, and outlier detection.\n",
    "</div>"
   ]
  },
  {
   "cell_type": "markdown",
   "id": "d4179cfd-0417-4aea-8d9e-a033eed3dc15",
   "metadata": {},
   "source": [
    "### Missing values"
   ]
  },
  {
   "cell_type": "markdown",
   "id": "0448f42d-52d4-44e7-9bbb-48b3a8218f9d",
   "metadata": {},
   "source": [
    "<div class=\"alert alert-block alert-success\">\n",
    "Handling missing data is a critical aspect of data preprocessing in machine learning. Effective strategies include imputing missing values\n",
    "using statistical methods, removing records with missing values, or employing advanced imputation techniques. Each approach has its advantages and limitations, and choosing the right method is essential\n",
    "for preventing biases and maintaining the integrity of analyses.\n",
    "</div>"
   ]
  },
  {
   "cell_type": "markdown",
   "id": "080f02be-fa14-4870-8850-1f6b55be1432",
   "metadata": {},
   "source": [
    "<div class=\"alert alert-block alert-danger\"> \n",
    "    \n",
    "1. Why is data missing? \n",
    "2. Print all samples that contain missing values.\n",
    "3. Print features that contain missing values.\n",
    "5. Print samples with features that contain missing values.\n",
    "6. Identify the number of missing values in each feature.\n",
    "7. Create a new dataframe from the first one and drop samples containing\n",
    "missing values.\n",
    "8. Create a new dataframe from the first one and delete columns contain-\n",
    "ing missing values. Is deleting missing values a solution?\n",
    "9. Replace missing values using the mean (for continuous values) or mode\n",
    "(for categorical values) and print the number of missing values after\n",
    "imputation.\n",
    "<div/>"
   ]
  }
 ],
 "metadata": {
  "kernelspec": {
   "display_name": "Python 3 (ipykernel)",
   "language": "python",
   "name": "python3"
  },
  "language_info": {
   "codemirror_mode": {
    "name": "ipython",
    "version": 3
   },
   "file_extension": ".py",
   "mimetype": "text/x-python",
   "name": "python",
   "nbconvert_exporter": "python",
   "pygments_lexer": "ipython3",
   "version": "3.12.3"
  }
 },
 "nbformat": 4,
 "nbformat_minor": 5
}
