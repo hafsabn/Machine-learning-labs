{
 "cells": [
  {
   "cell_type": "code",
   "execution_count": 3,
   "id": "e4db599d-6ba8-49c7-b758-dbafbcb639c2",
   "metadata": {},
   "outputs": [
    {
     "name": "stdout",
     "output_type": "stream",
     "text": [
      "[1 2 3 4 5 6 7 8 9]\n"
     ]
    }
   ],
   "source": [
    "import numpy as np\n",
    "#numpy pour gerer les vecteurs \n",
    "arr = np.arange(1, 10)\n",
    "print(arr)"
   ]
  },
  {
   "cell_type": "code",
   "execution_count": 7,
   "id": "6c57bc60-0ea5-43db-a03e-15865c099fe1",
   "metadata": {},
   "outputs": [
    {
     "name": "stdout",
     "output_type": "stream",
     "text": [
      "[[1 2 3]\n",
      " [4 5 6]\n",
      " [7 8 9]]\n",
      "Dimensions: (3, 3)\n"
     ]
    }
   ],
   "source": [
    "changedArr = arr.reshape(3, 3)\n",
    "# data set de 3 line et 3 caractère\n",
    "print(changedArr)\n",
    "print(\"Dimensions:\", changedArr.shape)"
   ]
  },
  {
   "cell_type": "code",
   "execution_count": 11,
   "id": "8d788160-8f21-4826-9719-da919ecfd327",
   "metadata": {},
   "outputs": [
    {
     "name": "stdout",
     "output_type": "stream",
     "text": [
      "first line [1 2 3]\n"
     ]
    }
   ],
   "source": [
    "print(\"first line\",changedArr[0])"
   ]
  },
  {
   "cell_type": "code",
   "execution_count": 15,
   "id": "b6d3fe89-6f33-4204-9587-b88d06e0cd78",
   "metadata": {},
   "outputs": [
    {
     "name": "stdout",
     "output_type": "stream",
     "text": [
      "first col [1 4 7]\n"
     ]
    }
   ],
   "source": [
    "print(\"first col\",changedArr[:,0])"
   ]
  },
  {
   "cell_type": "code",
   "execution_count": 33,
   "id": "810e9a34-7ad9-4a4d-bcfa-47353c3e3c67",
   "metadata": {},
   "outputs": [
    {
     "name": "stdout",
     "output_type": "stream",
     "text": [
      "\n",
      "Matrix b:\n",
      " [[9 8 7]\n",
      " [6 5 4]\n",
      " [3 2 1]]\n",
      "\n",
      "changedArr:\n",
      " [[1 2 3]\n",
      " [4 5 6]\n",
      " [7 8 9]]\n",
      "\n",
      "Matrix Product:\n",
      " [[ 30  24  18]\n",
      " [ 84  69  54]\n",
      " [138 114  90]]\n"
     ]
    }
   ],
   "source": [
    "matrix_b = np.array([[9, 8, 7], [6, 5, 4], [3, 2, 1]])\n",
    "print(\"\\nMatrix b:\\n\", matrix_b)\n",
    "print(\"\\nchangedArr:\\n\", changedArr)\n",
    "matrix_product = np.dot(changedArr, matrix_b)\n",
    "# === matrix_product = changedArr * matrix_b\n",
    "# === matrix_product = changedArr @ matrix_b\n",
    "print(\"\\nMatrix Product:\\n\", matrix_product)"
   ]
  },
  {
   "cell_type": "code",
   "execution_count": 31,
   "id": "337b3417-9fb8-4a9c-921f-35897d782b51",
   "metadata": {},
   "outputs": [
    {
     "data": {
      "image/png": "[encoded data removed]",
      "text/plain": [
       "<Figure size 640x480 with 1 Axes>"
      ]
     },
     "metadata": {},
     "output_type": "display_data"
    }
   ],
   "source": [
    "import matplotlib.pyplot as plt\n",
    "plt.grid()\n",
    "plt.axis([-2,3,0,5])\n",
    "x = [-1, 0, 1, 2]\n",
    "y = [3, 2, 4, 1]\n",
    "plt.xlabel(\"mes abscisses\")\n",
    "plt.ylabel(\"mes ordonnées\")\n",
    "plt.title(\"courbe d’équation $y =f(x)$\")\n",
    "#plt.plot(x, y)\n",
    "plt.plot(x, y, 'r.')\n",
    "plt.show()"
   ]
  },
  {
   "cell_type": "code",
   "execution_count": 1,
   "id": "a54be3d0-b169-4e21-b93a-acc5cca452e8",
   "metadata": {},
   "outputs": [
    {
     "name": "stdout",
     "output_type": "stream",
     "text": [
      "   year  rank                restaurant     location         country  \\\n",
      "0  2002     1                  El Bulli        Roses           Spain   \n",
      "1  2002     2  Restaurant Gordon Ramsay       London  United Kingdom   \n",
      "2  2002     3        The French Laundry   Yountville   United States   \n",
      "3  2002     4                  Rockpool       Sydney       Australia   \n",
      "4  2002     5            Spoon des Iles  Ile Maurice       Mauritius   \n",
      "\n",
      "         lat         lng  \n",
      "0  42.263949    3.179553  \n",
      "1  51.507218   -0.127586  \n",
      "2  38.401578 -122.360810  \n",
      "3 -33.868820  151.209295  \n",
      "4 -20.348404   57.552152  \n"
     ]
    }
   ],
   "source": [
    "import pandas as pd\n",
    "\n",
    "# Correctly call the read_csv function\n",
    "df = pd.read_csv(\"archive/WorldsBestRestaurants.csv\")\n",
    "\n",
    "print(df.head())"
   ]
  },
  {
   "cell_type": "code",
   "execution_count": null,
   "id": "7cf7ae82-1782-4f07-be9e-55e742ac57a8",
   "metadata": {},
   "outputs": [],
   "source": []
  },
  {
   "cell_type": "code",
   "execution_count": null,
   "id": "c669fe0f-701b-4c91-b52e-40a1eed950ec",
   "metadata": {},
   "outputs": [],
   "source": []
  },
  {
   "cell_type": "code",
   "execution_count": null,
   "id": "1a15ad03-9c3d-4176-b0f5-30b8efcf8228",
   "metadata": {},
   "outputs": [],
   "source": []
  }
 ],
 "metadata": {
  "kernelspec": {
   "display_name": "Python 3 (ipykernel)",
   "language": "python",
   "name": "python3"
  },
  "language_info": {
   "codemirror_mode": {
    "name": "ipython",
    "version": 3
   },
   "file_extension": ".py",
   "mimetype": "text/x-python",
   "name": "python",
   "nbconvert_exporter": "python",
   "pygments_lexer": "ipython3",
   "version": "3.12.3"
  }
 },
 "nbformat": 4,
 "nbformat_minor": 5
}
